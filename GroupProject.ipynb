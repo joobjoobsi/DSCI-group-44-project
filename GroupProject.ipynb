{
 "cells": [
  {
   "cell_type": "markdown",
   "id": "d9700b48-8c77-4a8d-9054-4f1a16f5292b",
   "metadata": {},
   "source": [
    "I AM WRITITNG SOMETHING - ERIC"
   ]
  },
  {
   "cell_type": "markdown",
   "id": "aa41240a",
   "metadata": {},
   "source": [
    "Hey you guys :3 Here is the file for our final project report. Testing"
   ]
  }
 ],
 "metadata": {
  "kernelspec": {
   "display_name": "R",
   "language": "R",
   "name": "ir"
  },
  "language_info": {
   "codemirror_mode": "r",
   "file_extension": ".r",
   "mimetype": "text/x-r-source",
   "name": "R",
   "pygments_lexer": "r",
   "version": "4.1.3"
  }
 },
 "nbformat": 4,
 "nbformat_minor": 5
}
