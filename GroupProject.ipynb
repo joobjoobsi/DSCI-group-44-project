{
 "cells": [
  {
   "cell_type": "markdown",
   "id": "5675d1b8-be4d-4bb7-884d-6cbbeebe64b2",
   "metadata": {},
   "source": [
    "Hey you guys :3 Here is the file for our final project report. "
   ]
  }
 ],
 "metadata": {
  "kernelspec": {
   "display_name": "R",
   "language": "R",
   "name": "ir"
  },
  "language_info": {
   "codemirror_mode": "r",
   "file_extension": ".r",
   "mimetype": "text/x-r-source",
   "name": "R",
   "pygments_lexer": "r",
   "version": "4.1.3"
  }
 },
 "nbformat": 4,
 "nbformat_minor": 5
}
